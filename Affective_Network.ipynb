{
  "nbformat": 4,
  "nbformat_minor": 0,
  "metadata": {
    "colab": {
      "name": "Affective_Network.ipynb",
      "provenance": [],
      "collapsed_sections": []
    },
    "kernelspec": {
      "display_name": "Python 3",
      "name": "python3"
    },
    "accelerator": "GPU"
  },
  "cells": [
    {
      "cell_type": "markdown",
      "metadata": {
        "id": "bW8zWXRPKGE_"
      },
      "source": [
        "## **Import and Datasets extraction**\n",
        "Extraction of the VGG-Face weights and the datasets used."
      ]
    },
    {
      "cell_type": "code",
      "metadata": {
        "id": "iEhndqGqBYoZ"
      },
      "source": [
        "from math import *\n",
        "import numpy as np\n",
        "import zipfile\n",
        "import os\n",
        "import tensorflow as tf\n",
        "import random\n",
        "import pandas as pd\n",
        "import cv2\n",
        "import keras.backend as K\n",
        "import h5py\n",
        "import gdown\n",
        "from google.colab import drive\n",
        "\n",
        "drive.mount(\"/content/drive\")\n",
        "\n",
        "\n",
        "!cd /content/sample_data\n",
        "! find . -name \"*.pyc\" -delete\n",
        "\n",
        "\n",
        "with zipfile.ZipFile(\"/content/drive/My Drive/Affective_Network/archive.zip\",\"r\") as z:\n",
        "    z.extractall(\".\")\n",
        "with zipfile.ZipFile(\"/content/drive/My Drive/Affective_Network/vgg_face_weights.h5.zip\",\"r\") as z:\n",
        "    z.extractall(\".\")\n",
        "with zipfile.ZipFile(\"/content/drive/My Drive/Affective_Network/Validation.zip\",\"r\") as z:\n",
        "    z.extractall(\".\")\n",
        "\n",
        "print(os.listdir(\"../content\"))"
      ],
      "execution_count": null,
      "outputs": []
    },
    {
      "cell_type": "markdown",
      "metadata": {
        "id": "-x2mX1dhBzWY"
      },
      "source": [
        "*Definition of the 7 emotions described in the datasets and separation into training, validation and test sets.*"
      ]
    },
    {
      "cell_type": "code",
      "metadata": {
        "id": "YX-38NMhCMzT"
      },
      "source": [
        "CATEGORIES=[\"angry\",\"disgust\",\"fear\",\"happy\",\"neutral\",\"sad\",\"surprise\"] \n",
        "OUTPUT_SHAPE=7\n",
        "INPUT_SHAPE=(48, 48, 3)\n",
        "training_data=[]\n",
        "test_data=[]\n",
        "validation_data=[]\n",
        "\n",
        "def create_training_data():\n",
        "  for category in CATEGORIES:\n",
        "    class_num=CATEGORIES.index(category)\n",
        "    for img in os.listdir(\"/content/train/\"+category):\n",
        "      try:\n",
        "        img_array=cv2.imread(os.path.join(\"/content/train/\"+category,img))\n",
        "        img_array=cv2.resize(img_array,(48,48))\n",
        "        training_data.append([img_array,class_num])\n",
        "      except Exception as e:\n",
        "        pass\n",
        "\n",
        "def create_validation_data():\n",
        "  for category in CATEGORIES:\n",
        "    class_num=CATEGORIES.index(category)\n",
        "    for img in os.listdir(\"/content/CK+48/\"+category):\n",
        "      try:\n",
        "        img_array=cv2.imread(os.path.join(\"/content/CK+48/\"+category,img))\n",
        "        img_array=cv2.resize(img_array,(48,48))\n",
        "        validation_data.append([img_array,class_num])\n",
        "      except Exception as e:\n",
        "        pass\n",
        "\n",
        "def create_test_data():\n",
        "  for category in CATEGORIES:\n",
        "    class_num=CATEGORIES.index(category)\n",
        "    for img in os.listdir(\"/content/test/\"+category):\n",
        "      try:\n",
        "        img_array=cv2.imread(os.path.join(\"/content/test/\"+category,img))\n",
        "        img_array=cv2.resize(img_array,(48,48))\n",
        "        test_data.append([img_array,class_num])\n",
        "      except Exception as e:\n",
        "        pass\n",
        "    \n",
        "\n",
        "create_training_data()\n",
        "random.shuffle(training_data)\n",
        "\n",
        "create_validation_data()\n",
        "random.shuffle(validation_data)\n",
        "\n",
        "create_test_data()\n",
        "random.shuffle(test_data)\n",
        "\n",
        "X=[]\n",
        "y=[]\n",
        "Xval=[]\n",
        "yval=[]\n",
        "Xtest=[]\n",
        "ytest=[]\n",
        "\n",
        "for features,label in training_data:\n",
        "  X.append(features)\n",
        "  y.append(label)\n",
        "\n",
        "for features,label in validation_data:\n",
        "  Xval.append(features)\n",
        "  yval.append(label)\n",
        "\n",
        "for features,label in test_data:\n",
        "  Xtest.append(features)\n",
        "  ytest.append(label)"
      ],
      "execution_count": null,
      "outputs": []
    },
    {
      "cell_type": "markdown",
      "metadata": {
        "id": "C1Gf_igHCVF9"
      },
      "source": [
        "*Data Normalization*"
      ]
    },
    {
      "cell_type": "code",
      "metadata": {
        "id": "CMw10tzRdmAn",
        "colab": {
          "base_uri": "https://localhost:8080/"
        },
        "outputId": "4135bba2-da97-4d79-cea2-e9817c580274"
      },
      "source": [
        "X=np.array(X)\n",
        "X=X/255.0\n",
        "y=np.array(y)\n",
        "y=tf.keras.utils.to_categorical(y, 7)\n",
        "\n",
        "Xval=np.array(Xval)\n",
        "Xval=Xval/255.0\n",
        "yval=np.array(yval)\n",
        "yval=tf.keras.utils.to_categorical(yval, 7)\n",
        "\n",
        "Xtest=np.array(Xtest)\n",
        "#Xtest = Xtest.reshape(Xtest.shape[0],48,48,3)\n",
        "Xtest=Xtest/255.0\n",
        "ytest=np.array(ytest)\n",
        "ytest=tf.keras.utils.to_categorical(ytest, 7)\n",
        "\n",
        "print(X[10])\n",
        "print(y[10])"
      ],
      "execution_count": null,
      "outputs": [
        {
          "output_type": "stream",
          "text": [
            "Drive already mounted at /content/drive; to attempt to forcibly remount, call drive.mount(\"/content/drive\", force_remount=True).\n",
            "['.config', 'train', 'CK+48', 'Armand.jpg', 'vgg_face_weights.h5', 'test', 'drive', 'ck', 'sample_data']\n",
            "[[[0.62352941 0.62352941 0.62352941]\n",
            "  [0.60784314 0.60784314 0.60784314]\n",
            "  [0.61176471 0.61176471 0.61176471]\n",
            "  ...\n",
            "  [0.49411765 0.49411765 0.49411765]\n",
            "  [0.74509804 0.74509804 0.74509804]\n",
            "  [0.76470588 0.76470588 0.76470588]]\n",
            "\n",
            " [[0.60784314 0.60784314 0.60784314]\n",
            "  [0.60784314 0.60784314 0.60784314]\n",
            "  [0.61568627 0.61568627 0.61568627]\n",
            "  ...\n",
            "  [0.42745098 0.42745098 0.42745098]\n",
            "  [0.65098039 0.65098039 0.65098039]\n",
            "  [0.77647059 0.77647059 0.77647059]]\n",
            "\n",
            " [[0.62745098 0.62745098 0.62745098]\n",
            "  [0.57254902 0.57254902 0.57254902]\n",
            "  [0.56078431 0.56078431 0.56078431]\n",
            "  ...\n",
            "  [0.34509804 0.34509804 0.34509804]\n",
            "  [0.51372549 0.51372549 0.51372549]\n",
            "  [0.74509804 0.74509804 0.74509804]]\n",
            "\n",
            " ...\n",
            "\n",
            " [[0.42352941 0.42352941 0.42352941]\n",
            "  [0.28235294 0.28235294 0.28235294]\n",
            "  [0.25882353 0.25882353 0.25882353]\n",
            "  ...\n",
            "  [0.45490196 0.45490196 0.45490196]\n",
            "  [0.43529412 0.43529412 0.43529412]\n",
            "  [0.45098039 0.45098039 0.45098039]]\n",
            "\n",
            " [[0.35294118 0.35294118 0.35294118]\n",
            "  [0.27843137 0.27843137 0.27843137]\n",
            "  [0.30196078 0.30196078 0.30196078]\n",
            "  ...\n",
            "  [0.44313725 0.44313725 0.44313725]\n",
            "  [0.43137255 0.43137255 0.43137255]\n",
            "  [0.44313725 0.44313725 0.44313725]]\n",
            "\n",
            " [[0.31372549 0.31372549 0.31372549]\n",
            "  [0.30196078 0.30196078 0.30196078]\n",
            "  [0.37647059 0.37647059 0.37647059]\n",
            "  ...\n",
            "  [0.42352941 0.42352941 0.42352941]\n",
            "  [0.42745098 0.42745098 0.42745098]\n",
            "  [0.43921569 0.43921569 0.43921569]]]\n",
            "[0. 0. 0. 1. 0. 0. 0.]\n"
          ],
          "name": "stdout"
        }
      ]
    },
    {
      "cell_type": "markdown",
      "metadata": {
        "id": "iBcNWCkyKRa-"
      },
      "source": [
        "## **Models defined**\n",
        "Desccription of every model defined."
      ]
    },
    {
      "cell_type": "code",
      "metadata": {
        "colab": {
          "base_uri": "https://localhost:8080/"
        },
        "id": "7Ia6_Fh_ifMZ",
        "outputId": "6f86477f-03e4-4aa8-be31-304faa98030d"
      },
      "source": [
        "\n",
        "import tensorflow as tf\n",
        "import keras\n",
        "from tensorflow.keras.models import Sequential\n",
        "from tensorflow.keras.layers import Dense,Dropout, Activation, Flatten, Conv2D, MaxPooling2D,ZeroPadding2D,Convolution2D,Input\n",
        "! pip install keras_applications\n",
        "! pip install keras_vggface\n",
        "from keras_vggface.vggface import VGGFace\n",
        "#from keras.engine import Model\n",
        "from keras.regularizers import l2\n",
        "\n",
        "\n",
        "MODEL_TYPES=['simple_cnn', 'resnet50v2', 'capsnet', 'vgg16'] # just for informationnal purposes\n",
        "MODEL_TYPE='vgg16'\n",
        "EPOCHS=50\n",
        "\n",
        "model = None\n",
        "\n",
        "if MODEL_TYPE == 'capsnet':\n",
        "    model, _, _ = capsulenet.CapsNet(input_shape=INPUT_SHAPE, n_class=OUTPUT_SHAPE, routings=4)\n",
        "    #inpt = tf.keras.layers.Input(INPUT_SHAPE)\n",
        "    \n",
        "    #x = tf.keras.layers.Conv2D(128, kernel_size=5)(inpt)\n",
        "    \n",
        "    #x = capsulelayers.PrimaryCap(x, dim_capsule=8, n_channels=32,\n",
        "    #                             kernel_size=5, strides=2, padding='valid')\n",
        "\n",
        "    \n",
        "    #x = capsulelayers.CapsuleLayer(num_capsule=OUTPUT_SHAPE, dim_capsule=16,\n",
        "    #                              routings=4)(x)\n",
        "    #model = tf.keras.models.Model(inputs=[inpt], outputs=[x])\n",
        "elif MODEL_TYPE == 'simple_cnn':\n",
        "    model = tf.keras.Sequential()\n",
        "    model.add(tf.keras.layers.Input(INPUT_SHAPE))\n",
        "    model.add(tf.keras.layers.Conv2D(16, (3,3)))\n",
        "    model.add(tf.keras.layers.PReLU())\n",
        "    model.add(tf.keras.layers.BatchNormalization())\n",
        "    model.add(tf.keras.layers.MaxPool2D())\n",
        "    model.add(tf.keras.layers.Conv2D(32, (3,3), activation='relu'))\n",
        "    model.add(tf.keras.layers.BatchNormalization())\n",
        "    model.add(tf.keras.layers.MaxPool2D())\n",
        "    model.add(tf.keras.layers.Conv2D(64, (3,3), activation='relu'))\n",
        "    model.add(tf.keras.layers.BatchNormalization())\n",
        "    model.add(tf.keras.layers.MaxPool2D())\n",
        "    model.add(tf.keras.layers.Conv2D(128, (3,3), activation='relu'))\n",
        "    model.add(tf.keras.layers.BatchNormalization())\n",
        "    model.add(tf.keras.layers.MaxPool2D())\n",
        "    model.add(tf.keras.layers.Flatten())\n",
        "    model.add(tf.keras.layers.Dense(128))\n",
        "    model.add(tf.keras.layers.Dropout(0.5))\n",
        "    model.add(tf.keras.layers.PReLU())\n",
        "    model.add(tf.keras.layers.Dense(64))\n",
        "    model.add(tf.keras.layers.Dropout(0.5))\n",
        "    model.add(tf.keras.layers.PReLU())\n",
        "    model.add(tf.keras.layers.Dense(OUTPUT_SHAPE, activation='softmax'))\n",
        "elif MODEL_TYPE == 'vgg_face':\n",
        "    \n",
        "    vgg_x = VGGFace(model = 'vgg16', weights = 'vggface', input_shape = (48,48,3), include_top = False)\n",
        "    last_layer = vgg_x.get_layer('pool5').output\n",
        "    x = Flatten(name='flatten')(last_layer)\n",
        "    out = Dense(7, activation='softmax', name='fc8',kernel_regularizer=l2(1e-6))(x)\n",
        "    model = Model(vgg_x.input, out)\n",
        "\n",
        "    #model.load_weights('/content/vgg_face_weights.h5')\n",
        "\n",
        "elif MODEL_TYPE == 'vgg16':\n",
        "\n",
        "    inpt = tf.keras.layers.Input(INPUT_SHAPE)\n",
        "    vgg16 = tf.keras.applications.VGG16(\n",
        "    include_top=False, weights='imagenet', input_tensor=inpt,\n",
        "    )\n",
        "    #for layer in resnet.layers[:1]:\n",
        "    #    layer.trainable = False\n",
        "    x = vgg16.outputs[0]\n",
        "    x = tf.keras.layers.Flatten()(x)\n",
        "    x = tf.keras.layers.BatchNormalization()(x)\n",
        "    x = tf.keras.layers.Dense(256, activation='relu')(x)\n",
        "    x = tf.keras.layers.Dropout(0.5)(x)\n",
        "    x = tf.keras.layers.BatchNormalization()(x)\n",
        "    x = tf.keras.layers.Dense(128, activation='relu')(x)\n",
        "    x = tf.keras.layers.Dropout(0.5)(x)\n",
        "    x = tf.keras.layers.BatchNormalization()(x)\n",
        "    x = tf.keras.layers.Dense(OUTPUT_SHAPE, activation='softmax')(x)\n",
        "    #vggface\n",
        "    model = tf.keras.Model(vgg16.inputs, x)\n",
        "    VGG=tf.keras.applications.VGG16(input_shape=INPUT_SHAPE,include_top=False,weights='imagenet')\n",
        "    VGG.trainable=False\n",
        "    model=keras.Sequential([VGG,\n",
        "                            keras.layers.Flatten(),\n",
        "                            tf.keras.layers.Dense(units=256, activation='relu'),\n",
        "                            tf.keras.layers.Dense(units=256, activation='relu'),\n",
        "                            tf.keras.layers.Dense(units=7, activation='softmax')])\n",
        "    \n",
        "    #model.load_weights('/content/vgg_face_weights.h5')\n",
        "    "
      ],
      "execution_count": null,
      "outputs": [
        {
          "output_type": "stream",
          "text": [
            "Requirement already satisfied: keras_applications in /usr/local/lib/python3.7/dist-packages (1.0.8)\n",
            "Requirement already satisfied: h5py in /usr/local/lib/python3.7/dist-packages (from keras_applications) (3.1.0)\n",
            "Requirement already satisfied: numpy>=1.9.1 in /usr/local/lib/python3.7/dist-packages (from keras_applications) (1.19.5)\n",
            "Requirement already satisfied: cached-property; python_version < \"3.8\" in /usr/local/lib/python3.7/dist-packages (from h5py->keras_applications) (1.5.2)\n",
            "Requirement already satisfied: keras_vggface in /usr/local/lib/python3.7/dist-packages (0.6)\n",
            "Requirement already satisfied: numpy>=1.9.1 in /usr/local/lib/python3.7/dist-packages (from keras_vggface) (1.19.5)\n",
            "Requirement already satisfied: pyyaml in /usr/local/lib/python3.7/dist-packages (from keras_vggface) (3.13)\n",
            "Requirement already satisfied: pillow in /usr/local/lib/python3.7/dist-packages (from keras_vggface) (7.1.2)\n",
            "Requirement already satisfied: six>=1.9.0 in /usr/local/lib/python3.7/dist-packages (from keras_vggface) (1.15.0)\n",
            "Requirement already satisfied: keras in /usr/local/lib/python3.7/dist-packages (from keras_vggface) (2.4.3)\n",
            "Requirement already satisfied: scipy>=0.14 in /usr/local/lib/python3.7/dist-packages (from keras_vggface) (1.4.1)\n",
            "Requirement already satisfied: h5py in /usr/local/lib/python3.7/dist-packages (from keras_vggface) (3.1.0)\n",
            "Requirement already satisfied: cached-property; python_version < \"3.8\" in /usr/local/lib/python3.7/dist-packages (from h5py->keras_vggface) (1.5.2)\n"
          ],
          "name": "stdout"
        }
      ]
    },
    {
      "cell_type": "markdown",
      "metadata": {
        "id": "eEpD5o2GJ_An"
      },
      "source": [
        "## **Fine-Tuning**"
      ]
    },
    {
      "cell_type": "code",
      "metadata": {
        "colab": {
          "base_uri": "https://localhost:8080/"
        },
        "id": "moKB9jlz7yGd",
        "outputId": "3b2f2169-93fa-4d4b-f630-8a05bdb5828d"
      },
      "source": [
        "base_model = VGGFace(model = 'vgg16', weights = 'vggface', input_shape = (48,48,3), include_top = False)\n",
        "\n",
        "# Freeze the base_model\n",
        "base_model.trainable = False\n",
        "\n",
        "# Create new model on top\n",
        "inputs = keras.Input(shape=(48, 48, 3))\n",
        "\n",
        "\n",
        "# Pre-trained Xception weights requires that input be normalized\n",
        "# from (0, 255) to a range (-1., +1.), the normalization layer\n",
        "# does the following, outputs = (inputs - mean) / sqrt(var)\n",
        "\n",
        "\n",
        "# The base model contains batchnorm layers. We want to keep them in inference mode\n",
        "# when we unfreeze the base model for fine-tuning, so we make sure that the\n",
        "# base_model is running in inference mode here.\n",
        "x = base_model(inputs, training=False)\n",
        "x = keras.layers.GlobalAveragePooling2D()(x)\n",
        "x = keras.layers.Dropout(0.2)(x)  # Regularize with dropout\n",
        "outputs = keras.layers.Dense(units=7, activation='softmax')(x)\n",
        "model = keras.Model(inputs, outputs)\n",
        "\n",
        "model.summary()"
      ],
      "execution_count": null,
      "outputs": [
        {
          "output_type": "stream",
          "text": [
            "Model: \"model_4\"\n",
            "_________________________________________________________________\n",
            "Layer (type)                 Output Shape              Param #   \n",
            "=================================================================\n",
            "input_7 (InputLayer)         [(None, 48, 48, 3)]       0         \n",
            "_________________________________________________________________\n",
            "vggface_vgg16 (Functional)   (None, 1, 1, 512)         14714688  \n",
            "_________________________________________________________________\n",
            "global_average_pooling2d_1 ( (None, 512)               0         \n",
            "_________________________________________________________________\n",
            "dropout_1 (Dropout)          (None, 512)               0         \n",
            "_________________________________________________________________\n",
            "dense_8 (Dense)              (None, 7)                 3591      \n",
            "=================================================================\n",
            "Total params: 14,718,279\n",
            "Trainable params: 3,591\n",
            "Non-trainable params: 14,714,688\n",
            "_________________________________________________________________\n"
          ],
          "name": "stdout"
        }
      ]
    },
    {
      "cell_type": "code",
      "metadata": {
        "colab": {
          "base_uri": "https://localhost:8080/"
        },
        "id": "pqSLqTpQ8NNq",
        "outputId": "7b9a8584-7632-4707-ceb7-fa72d0d2e4c7"
      },
      "source": [
        "\n",
        "checkpoint_path = \"/content/sample_data/\"\n",
        "checkpoint_dir = os.path.dirname(checkpoint_path)\n",
        "cp_callback = keras.callbacks.ModelCheckpoint(filepath=checkpoint_path,monitor='accuracy',verbose=1,\n",
        "                                                 save_weights_only=True,\n",
        "                                                 save_freq = \"epoch\")\n",
        "\n",
        "train_dataset = tf.data.Dataset.from_tensor_slices((X, y))\n",
        "validation_dataset = tf.data.Dataset.from_tensor_slices((Xval, yval))\n",
        "test_dataset = tf.data.Dataset.from_tensor_slices((Xtest, ytest))\n",
        "train_dataset=train_dataset.batch(batch_size=32)\n",
        "validation_dataset=validation_dataset.batch(batch_size=32)\n",
        "test_dataset=test_dataset.batch(batch_size=32)\n",
        "\n",
        "model.compile(optimizer=keras.optimizers.SGD(learning_rate=1e-2),#or cgd,\n",
        "              loss=('categorical_crossentropy'),\n",
        "              metrics=['accuracy', keras.metrics.Precision(), keras.metrics.Recall(), keras.metrics.FalseNegatives()]\n",
        "             )\n",
        "\n",
        "epochs = 20\n",
        "model.fit(train_dataset,epochs=20,validation_data=validation_dataset)"
      ],
      "execution_count": null,
      "outputs": [
        {
          "output_type": "stream",
          "text": [
            "Epoch 1/20\n",
            "898/898 [==============================] - 35s 36ms/step - loss: 1.5573 - accuracy: 0.3958 - precision: 0.6049 - recall: 0.1216 - false_negatives: 12637.9199 - val_loss: 2.2431 - val_accuracy: 0.1916 - val_precision: 0.2072 - val_recall: 0.0469 - val_false_negatives: 935.0000\n",
            "Epoch 2/20\n",
            "898/898 [==============================] - 32s 35ms/step - loss: 1.5389 - accuracy: 0.4062 - precision: 0.6289 - recall: 0.1195 - false_negatives: 12629.0033 - val_loss: 2.2602 - val_accuracy: 0.1947 - val_precision: 0.1796 - val_recall: 0.0591 - val_false_negatives: 923.0000\n",
            "Epoch 3/20\n",
            "898/898 [==============================] - 32s 35ms/step - loss: 1.5270 - accuracy: 0.4108 - precision: 0.6332 - recall: 0.1260 - false_negatives: 12546.0100 - val_loss: 2.2442 - val_accuracy: 0.2029 - val_precision: 0.1958 - val_recall: 0.0663 - val_false_negatives: 916.0000\n",
            "Epoch 4/20\n",
            "898/898 [==============================] - 32s 36ms/step - loss: 1.5170 - accuracy: 0.4157 - precision: 0.6361 - recall: 0.1307 - false_negatives: 12479.2914 - val_loss: 2.2384 - val_accuracy: 0.2080 - val_precision: 0.2212 - val_recall: 0.0744 - val_false_negatives: 908.0000\n",
            "Epoch 5/20\n",
            "898/898 [==============================] - 32s 36ms/step - loss: 1.5082 - accuracy: 0.4178 - precision: 0.6392 - recall: 0.1355 - false_negatives: 12408.1479 - val_loss: 2.2287 - val_accuracy: 0.2090 - val_precision: 0.2212 - val_recall: 0.0765 - val_false_negatives: 906.0000\n",
            "Epoch 6/20\n",
            "898/898 [==============================] - 32s 36ms/step - loss: 1.4997 - accuracy: 0.4235 - precision: 0.6444 - recall: 0.1407 - false_negatives: 12341.8009 - val_loss: 2.2122 - val_accuracy: 0.2110 - val_precision: 0.2331 - val_recall: 0.0775 - val_false_negatives: 905.0000\n",
            "Epoch 7/20\n",
            "898/898 [==============================] - 32s 36ms/step - loss: 1.4919 - accuracy: 0.4249 - precision: 0.6447 - recall: 0.1445 - false_negatives: 12283.2525 - val_loss: 2.2432 - val_accuracy: 0.1957 - val_precision: 0.2053 - val_recall: 0.0785 - val_false_negatives: 904.0000\n",
            "Epoch 8/20\n",
            "898/898 [==============================] - 32s 36ms/step - loss: 1.4845 - accuracy: 0.4283 - precision: 0.6488 - recall: 0.1490 - false_negatives: 12211.3849 - val_loss: 2.2129 - val_accuracy: 0.2080 - val_precision: 0.2255 - val_recall: 0.0775 - val_false_negatives: 905.0000\n",
            "Epoch 9/20\n",
            "898/898 [==============================] - 32s 36ms/step - loss: 1.4773 - accuracy: 0.4319 - precision: 0.6542 - recall: 0.1537 - false_negatives: 12142.7531 - val_loss: 2.2019 - val_accuracy: 0.2141 - val_precision: 0.2398 - val_recall: 0.0836 - val_false_negatives: 899.0000\n",
            "Epoch 10/20\n",
            "898/898 [==============================] - 32s 36ms/step - loss: 1.4704 - accuracy: 0.4351 - precision: 0.6539 - recall: 0.1568 - false_negatives: 12091.4516 - val_loss: 2.2074 - val_accuracy: 0.2141 - val_precision: 0.2336 - val_recall: 0.0907 - val_false_negatives: 892.0000\n",
            "Epoch 11/20\n",
            "898/898 [==============================] - 32s 36ms/step - loss: 1.4636 - accuracy: 0.4373 - precision: 0.6556 - recall: 0.1605 - false_negatives: 12042.0656 - val_loss: 2.1775 - val_accuracy: 0.2212 - val_precision: 0.2534 - val_recall: 0.0958 - val_false_negatives: 887.0000\n",
            "Epoch 12/20\n",
            "898/898 [==============================] - 32s 36ms/step - loss: 1.4567 - accuracy: 0.4415 - precision: 0.6627 - recall: 0.1651 - false_negatives: 11974.3849 - val_loss: 2.1520 - val_accuracy: 0.2253 - val_precision: 0.2712 - val_recall: 0.0979 - val_false_negatives: 885.0000\n",
            "Epoch 13/20\n",
            "898/898 [==============================] - 32s 35ms/step - loss: 1.4500 - accuracy: 0.4432 - precision: 0.6645 - recall: 0.1694 - false_negatives: 11911.0133 - val_loss: 2.1399 - val_accuracy: 0.2314 - val_precision: 0.2877 - val_recall: 0.1030 - val_false_negatives: 880.0000\n",
            "Epoch 14/20\n",
            "898/898 [==============================] - 32s 35ms/step - loss: 1.4434 - accuracy: 0.4475 - precision: 0.6670 - recall: 0.1737 - false_negatives: 11847.1913 - val_loss: 2.1457 - val_accuracy: 0.2304 - val_precision: 0.2849 - val_recall: 0.1040 - val_false_negatives: 879.0000\n",
            "Epoch 15/20\n",
            "898/898 [==============================] - 28s 32ms/step - loss: 1.4368 - accuracy: 0.4498 - precision: 0.6695 - recall: 0.1770 - false_negatives: 11794.6630 - val_loss: 2.1275 - val_accuracy: 0.2385 - val_precision: 0.3137 - val_recall: 0.1142 - val_false_negatives: 869.0000\n",
            "Epoch 16/20\n",
            "898/898 [==============================] - 28s 31ms/step - loss: 1.4301 - accuracy: 0.4537 - precision: 0.6703 - recall: 0.1810 - false_negatives: 11742.5784 - val_loss: 2.1287 - val_accuracy: 0.2426 - val_precision: 0.3211 - val_recall: 0.1162 - val_false_negatives: 867.0000\n",
            "Epoch 17/20\n",
            "898/898 [==============================] - 28s 31ms/step - loss: 1.4236 - accuracy: 0.4548 - precision: 0.6740 - recall: 0.1858 - false_negatives: 11674.5117 - val_loss: 2.1358 - val_accuracy: 0.2406 - val_precision: 0.3109 - val_recall: 0.1223 - val_false_negatives: 861.0000\n",
            "Epoch 18/20\n",
            "898/898 [==============================] - 28s 31ms/step - loss: 1.4171 - accuracy: 0.4589 - precision: 0.6750 - recall: 0.1899 - false_negatives: 11618.0578 - val_loss: 2.1459 - val_accuracy: 0.2375 - val_precision: 0.2960 - val_recall: 0.1213 - val_false_negatives: 862.0000\n",
            "Epoch 19/20\n",
            "898/898 [==============================] - 28s 31ms/step - loss: 1.4106 - accuracy: 0.4621 - precision: 0.6790 - recall: 0.1945 - false_negatives: 11551.8621 - val_loss: 2.1403 - val_accuracy: 0.2385 - val_precision: 0.2983 - val_recall: 0.1244 - val_false_negatives: 859.0000\n",
            "Epoch 20/20\n",
            "898/898 [==============================] - 28s 31ms/step - loss: 1.4040 - accuracy: 0.4641 - precision: 0.6812 - recall: 0.1988 - false_negatives: 11498.0056 - val_loss: 2.1333 - val_accuracy: 0.2385 - val_precision: 0.2995 - val_recall: 0.1264 - val_false_negatives: 857.0000\n"
          ],
          "name": "stdout"
        },
        {
          "output_type": "execute_result",
          "data": {
            "text/plain": [
              "<keras.callbacks.History at 0x7f9ff00623d0>"
            ]
          },
          "metadata": {
            "tags": []
          },
          "execution_count": 10
        }
      ]
    },
    {
      "cell_type": "code",
      "metadata": {
        "colab": {
          "base_uri": "https://localhost:8080/"
        },
        "id": "CIOhZ4Xl9Gn6",
        "outputId": "d49739af-89bb-4079-81e3-0a0b7f6ea1d6"
      },
      "source": [
        "#base_model.trainable = True\n",
        "model.summary()\n",
        "\n",
        "\n",
        "model.compile(optimizer=tf.keras.optimizers.Nadam(learning_rate=1e-4),#or cgd,\n",
        "              loss=('categorical_crossentropy'),\n",
        "              metrics=['accuracy', tf.keras.metrics.Precision(), tf.keras.metrics.Recall(), tf.keras.metrics.FalseNegatives()]\n",
        "             )\n",
        "\n",
        "epochs = 20\n",
        "history=model.fit(train_dataset,epochs=epochs,validation_data=validation_dataset,callbacks=[cp_callback])"
      ],
      "execution_count": null,
      "outputs": [
        {
          "output_type": "stream",
          "text": [
            "Model: \"sequential\"\n",
            "_________________________________________________________________\n",
            "Layer (type)                 Output Shape              Param #   \n",
            "=================================================================\n",
            "module_wrapper (ModuleWrappe (None, 1, 1, 512)         14714688  \n",
            "_________________________________________________________________\n",
            "flatten (Flatten)            (None, 512)               0         \n",
            "_________________________________________________________________\n",
            "module_wrapper_1 (ModuleWrap (None, 256)               131328    \n",
            "_________________________________________________________________\n",
            "module_wrapper_2 (ModuleWrap (None, 256)               65792     \n",
            "_________________________________________________________________\n",
            "module_wrapper_3 (ModuleWrap (None, 7)                 1799      \n",
            "=================================================================\n",
            "Total params: 14,913,607\n",
            "Trainable params: 198,919\n",
            "Non-trainable params: 14,714,688\n",
            "_________________________________________________________________\n",
            "Epoch 1/20\n",
            "898/898 [==============================] - 31s 33ms/step - loss: 1.3793 - accuracy: 0.4761 - precision_1: 0.6966 - recall_1: 0.1995 - false_negatives_1: 5687.9902 - val_loss: 2.0546 - val_accuracy: 0.3333 - val_precision_1: 0.6996 - val_recall_1: 0.2135 - val_false_negatives_1: 22981.3867\n",
            "\n",
            "Epoch 00001: saving model to /content/sample_data/\n",
            "Epoch 2/20\n",
            "898/898 [==============================] - 14s 15ms/step - loss: 1.3609 - accuracy: 0.4855 - precision_1: 0.6971 - recall_1: 0.2141 - false_negatives_1: 28994.1127 - val_loss: 2.0412 - val_accuracy: 0.3456 - val_precision_1: 0.7008 - val_recall_1: 0.2173 - val_false_negatives_1: 46108.8398\n",
            "\n",
            "Epoch 00002: saving model to /content/sample_data/\n",
            "Epoch 3/20\n",
            "898/898 [==============================] - 14s 15ms/step - loss: 1.3457 - accuracy: 0.4926 - precision_1: 0.7004 - recall_1: 0.2184 - false_negatives_1: 52041.8205 - val_loss: 2.0417 - val_accuracy: 0.3507 - val_precision_1: 0.7034 - val_recall_1: 0.2217 - val_false_negatives_1: 68959.5781\n",
            "\n",
            "Epoch 00003: saving model to /content/sample_data/\n",
            "Epoch 4/20\n",
            "898/898 [==============================] - 13s 15ms/step - loss: 1.3301 - accuracy: 0.4993 - precision_1: 0.7032 - recall_1: 0.2228 - false_negatives_1: 74828.7220 - val_loss: 2.0428 - val_accuracy: 0.3568 - val_precision_1: 0.7055 - val_recall_1: 0.2261 - val_false_negatives_1: 91550.1641\n",
            "\n",
            "Epoch 00004: saving model to /content/sample_data/\n",
            "Epoch 5/20\n",
            "898/898 [==============================] - 13s 15ms/step - loss: 1.3148 - accuracy: 0.5042 - precision_1: 0.7057 - recall_1: 0.2272 - false_negatives_1: 97346.0462 - val_loss: 2.0380 - val_accuracy: 0.3619 - val_precision_1: 0.7082 - val_recall_1: 0.2306 - val_false_negatives_1: 113861.7422\n",
            "\n",
            "Epoch 00005: saving model to /content/sample_data/\n",
            "Epoch 6/20\n",
            "898/898 [==============================] - 14s 15ms/step - loss: 1.2994 - accuracy: 0.5119 - precision_1: 0.7084 - recall_1: 0.2317 - false_negatives_1: 119596.8180 - val_loss: 2.0437 - val_accuracy: 0.3598 - val_precision_1: 0.7106 - val_recall_1: 0.2351 - val_false_negatives_1: 135908.0312\n",
            "\n",
            "Epoch 00006: saving model to /content/sample_data/\n",
            "Epoch 7/20\n",
            "898/898 [==============================] - 14s 15ms/step - loss: 1.2840 - accuracy: 0.5189 - precision_1: 0.7108 - recall_1: 0.2362 - false_negatives_1: 141570.2354 - val_loss: 2.0466 - val_accuracy: 0.3670 - val_precision_1: 0.7131 - val_recall_1: 0.2396 - val_false_negatives_1: 157672.9375\n",
            "\n",
            "Epoch 00007: saving model to /content/sample_data/\n",
            "Epoch 8/20\n",
            "898/898 [==============================] - 13s 15ms/step - loss: 1.2685 - accuracy: 0.5275 - precision_1: 0.7136 - recall_1: 0.2408 - false_negatives_1: 163252.3789 - val_loss: 2.0493 - val_accuracy: 0.3700 - val_precision_1: 0.7158 - val_recall_1: 0.2442 - val_false_negatives_1: 179160.7812\n",
            "\n",
            "Epoch 00008: saving model to /content/sample_data/\n",
            "Epoch 9/20\n",
            "898/898 [==============================] - 13s 15ms/step - loss: 1.2529 - accuracy: 0.5350 - precision_1: 0.7162 - recall_1: 0.2454 - false_negatives_1: 184666.6284 - val_loss: 2.0477 - val_accuracy: 0.3741 - val_precision_1: 0.7185 - val_recall_1: 0.2489 - val_false_negatives_1: 200361.0625\n",
            "\n",
            "Epoch 00009: saving model to /content/sample_data/\n",
            "Epoch 10/20\n",
            "898/898 [==============================] - 14s 15ms/step - loss: 1.2373 - accuracy: 0.5425 - precision_1: 0.7190 - recall_1: 0.2501 - false_negatives_1: 205791.2469 - val_loss: 2.0482 - val_accuracy: 0.3741 - val_precision_1: 0.7211 - val_recall_1: 0.2535 - val_false_negatives_1: 221272.8125\n",
            "\n",
            "Epoch 00010: saving model to /content/sample_data/\n",
            "Epoch 11/20\n",
            "898/898 [==============================] - 14s 15ms/step - loss: 1.2215 - accuracy: 0.5501 - precision_1: 0.7216 - recall_1: 0.2548 - false_negatives_1: 226629.2365 - val_loss: 2.0479 - val_accuracy: 0.3761 - val_precision_1: 0.7238 - val_recall_1: 0.2583 - val_false_negatives_1: 241893.4531\n",
            "\n",
            "Epoch 00011: saving model to /content/sample_data/\n",
            "Epoch 12/20\n",
            "898/898 [==============================] - 13s 15ms/step - loss: 1.2058 - accuracy: 0.5574 - precision_1: 0.7243 - recall_1: 0.2595 - false_negatives_1: 247176.7016 - val_loss: 2.0439 - val_accuracy: 0.3761 - val_precision_1: 0.7265 - val_recall_1: 0.2630 - val_false_negatives_1: 262238.9688\n",
            "\n",
            "Epoch 00012: saving model to /content/sample_data/\n",
            "Epoch 13/20\n",
            "898/898 [==============================] - 13s 15ms/step - loss: 1.1899 - accuracy: 0.5638 - precision_1: 0.7270 - recall_1: 0.2642 - false_negatives_1: 267445.9019 - val_loss: 2.0507 - val_accuracy: 0.3772 - val_precision_1: 0.7291 - val_recall_1: 0.2677 - val_false_negatives_1: 282288.4375\n",
            "\n",
            "Epoch 00013: saving model to /content/sample_data/\n",
            "Epoch 14/20\n",
            "898/898 [==============================] - 14s 15ms/step - loss: 1.1739 - accuracy: 0.5716 - precision_1: 0.7296 - recall_1: 0.2690 - false_negatives_1: 287420.1824 - val_loss: 2.0517 - val_accuracy: 0.3823 - val_precision_1: 0.7317 - val_recall_1: 0.2725 - val_false_negatives_1: 302059.3125\n",
            "\n",
            "Epoch 00014: saving model to /content/sample_data/\n",
            "Epoch 15/20\n",
            "898/898 [==============================] - 14s 15ms/step - loss: 1.1579 - accuracy: 0.5782 - precision_1: 0.7322 - recall_1: 0.2737 - false_negatives_1: 307112.0498 - val_loss: 2.0537 - val_accuracy: 0.3863 - val_precision_1: 0.7343 - val_recall_1: 0.2773 - val_false_negatives_1: 321521.6250\n",
            "\n",
            "Epoch 00015: saving model to /content/sample_data/\n",
            "Epoch 16/20\n",
            "898/898 [==============================] - 14s 15ms/step - loss: 1.1425 - accuracy: 0.5850 - precision_1: 0.7348 - recall_1: 0.2785 - false_negatives_1: 326502.2765 - val_loss: 2.0606 - val_accuracy: 0.3874 - val_precision_1: 0.7368 - val_recall_1: 0.2821 - val_false_negatives_1: 340702.9375\n",
            "\n",
            "Epoch 00016: saving model to /content/sample_data/\n",
            "Epoch 17/20\n",
            "898/898 [==============================] - 13s 15ms/step - loss: 1.1266 - accuracy: 0.5921 - precision_1: 0.7373 - recall_1: 0.2833 - false_negatives_1: 345605.6411 - val_loss: 2.0636 - val_accuracy: 0.3935 - val_precision_1: 0.7393 - val_recall_1: 0.2869 - val_false_negatives_1: 359609.7812\n",
            "\n",
            "Epoch 00017: saving model to /content/sample_data/\n",
            "Epoch 18/20\n",
            "898/898 [==============================] - 14s 15ms/step - loss: 1.1109 - accuracy: 0.5968 - precision_1: 0.7398 - recall_1: 0.2881 - false_negatives_1: 364430.3577 - val_loss: 2.0668 - val_accuracy: 0.3976 - val_precision_1: 0.7418 - val_recall_1: 0.2917 - val_false_negatives_1: 378193.7812\n",
            "\n",
            "Epoch 00018: saving model to /content/sample_data/\n",
            "Epoch 19/20\n",
            "898/898 [==============================] - 14s 15ms/step - loss: 1.0953 - accuracy: 0.6048 - precision_1: 0.7423 - recall_1: 0.2930 - false_negatives_1: 382947.8315 - val_loss: 2.0713 - val_accuracy: 0.3986 - val_precision_1: 0.7442 - val_recall_1: 0.2965 - val_false_negatives_1: 396504.0000\n",
            "\n",
            "Epoch 00019: saving model to /content/sample_data/\n",
            "Epoch 20/20\n",
            "898/898 [==============================] - 14s 15ms/step - loss: 1.0798 - accuracy: 0.6119 - precision_1: 0.7447 - recall_1: 0.2978 - false_negatives_1: 401175.6194 - val_loss: 2.0752 - val_accuracy: 0.3986 - val_precision_1: 0.7466 - val_recall_1: 0.3014 - val_false_negatives_1: 414510.9688\n",
            "\n",
            "Epoch 00020: saving model to /content/sample_data/\n"
          ],
          "name": "stdout"
        }
      ]
    },
    {
      "cell_type": "markdown",
      "metadata": {
        "id": "wSXQIBKZKX6W"
      },
      "source": [
        "## **Model fitting**"
      ]
    },
    {
      "cell_type": "code",
      "metadata": {
        "colab": {
          "base_uri": "https://localhost:8080/"
        },
        "id": "1jGHGy2OWa2o",
        "outputId": "5aa02110-417b-48f1-8018-afbcb703e7dd"
      },
      "source": [
        "!cd /content/sample_data\n",
        "\n",
        "checkpoint_path = \"/content/sample_data/\"\n",
        "checkpoint_dir = os.path.dirname(checkpoint_path)\n",
        "cp_callback = tf.keras.callbacks.ModelCheckpoint(filepath=checkpoint_path,monitor='accuracy',verbose=1,\n",
        "                                                 save_weights_only=True,\n",
        "                                                 save_freq = \"epoch\")\n",
        "\n",
        "train_dataset = tf.data.Dataset.from_tensor_slices((X, y))\n",
        "validation_dataset = tf.data.Dataset.from_tensor_slices((Xval, yval))\n",
        "test_dataset = tf.data.Dataset.from_tensor_slices((Xtest, ytest))\n",
        "train_dataset=train_dataset.batch(batch_size=32)\n",
        "validation_dataset=validation_dataset.batch(batch_size=32)\n",
        "test_dataset=test_dataset.batch(batch_size=32)\n",
        "\n",
        "model.compile(optimizer=tf.keras.optimizers.SGD(learning_rate=1e-3),#or Nadam,\n",
        "              loss=('categorical_crossentropy'),\n",
        "              metrics=['accuracy', tf.keras.metrics.Precision(), tf.keras.metrics.Recall(), tf.keras.metrics.FalseNegatives()]\n",
        "             )\n",
        "\n",
        "history=model.fit(train_dataset,epochs=50,validation_data=validation_dataset,callbacks=[cp_callback])"
      ],
      "execution_count": null,
      "outputs": [
        {
          "output_type": "stream",
          "text": [
            "Epoch 1/50\n",
            "898/898 [==============================] - 60s 16ms/step - loss: 1.8442 - accuracy: 0.2347 - precision: 0.0000e+00 - recall: 0.0000e+00 - false_negatives: 7215.9821 - val_loss: 2.1560 - val_accuracy: 0.2090 - val_precision: 0.0000e+00 - val_recall: 0.0000e+00 - val_false_negatives: 29220.6445\n",
            "\n",
            "Epoch 00001: saving model to /content/sample_data/\n",
            "Epoch 2/50\n",
            "898/898 [==============================] - 31s 34ms/step - loss: 1.7529 - accuracy: 0.2799 - precision: 0.0000e+00 - recall: 0.0000e+00 - false_negatives: 36905.9673 - val_loss: 2.1669 - val_accuracy: 0.2130 - val_precision: 0.0000e+00 - val_recall: 0.0000e+00 - val_false_negatives: 58910.6445\n",
            "\n",
            "Epoch 00002: saving model to /content/sample_data/\n",
            "Epoch 3/50\n",
            "898/898 [==============================] - 31s 34ms/step - loss: 1.7202 - accuracy: 0.3095 - precision: 0.3254 - recall: 2.0103e-05 - false_negatives: 66594.4997 - val_loss: 2.1700 - val_accuracy: 0.2273 - val_precision: 0.7181 - val_recall: 2.0133e-04 - val_false_negatives: 88582.8047\n",
            "\n",
            "Epoch 00003: saving model to /content/sample_data/\n",
            "Epoch 4/50\n",
            "898/898 [==============================] - 31s 34ms/step - loss: 1.6971 - accuracy: 0.3305 - precision: 0.7079 - recall: 3.4764e-04 - false_negatives: 96251.3679 - val_loss: 2.1729 - val_accuracy: 0.2385 - val_precision: 0.6799 - val_recall: 0.0011 - val_false_negatives: 118165.2891\n",
            "\n",
            "Epoch 00004: saving model to /content/sample_data/\n",
            "Epoch 5/50\n",
            "898/898 [==============================] - 31s 34ms/step - loss: 1.6796 - accuracy: 0.3402 - precision: 0.6882 - recall: 0.0014 - false_negatives: 125798.1072 - val_loss: 2.1729 - val_accuracy: 0.2528 - val_precision: 0.6643 - val_recall: 0.0024 - val_false_negatives: 147621.4844\n",
            "\n",
            "Epoch 00005: saving model to /content/sample_data/\n",
            "Epoch 6/50\n",
            "898/898 [==============================] - 31s 34ms/step - loss: 1.6657 - accuracy: 0.3474 - precision: 0.6625 - recall: 0.0029 - false_negatives: 155217.0205 - val_loss: 2.1696 - val_accuracy: 0.2610 - val_precision: 0.6538 - val_recall: 0.0042 - val_false_negatives: 176921.8438\n",
            "\n",
            "Epoch 00006: saving model to /content/sample_data/\n",
            "Epoch 7/50\n",
            "898/898 [==============================] - 30s 34ms/step - loss: 1.6542 - accuracy: 0.3520 - precision: 0.6543 - recall: 0.0047 - false_negatives: 184479.4504 - val_loss: 2.1688 - val_accuracy: 0.2599 - val_precision: 0.6517 - val_recall: 0.0064 - val_false_negatives: 206038.6094\n",
            "\n",
            "Epoch 00007: saving model to /content/sample_data/\n",
            "Epoch 8/50\n",
            "898/898 [==============================] - 31s 35ms/step - loss: 1.6443 - accuracy: 0.3575 - precision: 0.6540 - recall: 0.0070 - false_negatives: 213544.5562 - val_loss: 2.1649 - val_accuracy: 0.2661 - val_precision: 0.6573 - val_recall: 0.0089 - val_false_negatives: 234949.5469\n",
            "\n",
            "Epoch 00008: saving model to /content/sample_data/\n",
            "Epoch 9/50\n",
            "898/898 [==============================] - 31s 34ms/step - loss: 1.6357 - accuracy: 0.3611 - precision: 0.6581 - recall: 0.0095 - false_negatives: 242410.4228 - val_loss: 2.1618 - val_accuracy: 0.2712 - val_precision: 0.6569 - val_recall: 0.0115 - val_false_negatives: 263679.5625\n",
            "\n",
            "Epoch 00009: saving model to /content/sample_data/\n",
            "Epoch 10/50\n",
            "898/898 [==============================] - 31s 34ms/step - loss: 1.6281 - accuracy: 0.3655 - precision: 0.6565 - recall: 0.0121 - false_negatives: 271100.3224 - val_loss: 2.1577 - val_accuracy: 0.2671 - val_precision: 0.6553 - val_recall: 0.0141 - val_false_negatives: 292251.1875\n",
            "\n",
            "Epoch 00010: saving model to /content/sample_data/\n",
            "Epoch 11/50\n",
            "898/898 [==============================] - 31s 35ms/step - loss: 1.6211 - accuracy: 0.3673 - precision: 0.6550 - recall: 0.0147 - false_negatives: 299629.1478 - val_loss: 2.1542 - val_accuracy: 0.2732 - val_precision: 0.6549 - val_recall: 0.0168 - val_false_negatives: 320640.8438\n",
            "\n",
            "Epoch 00011: saving model to /content/sample_data/\n",
            "Epoch 12/50\n",
            "898/898 [==============================] - 31s 35ms/step - loss: 1.6148 - accuracy: 0.3713 - precision: 0.6550 - recall: 0.0174 - false_negatives: 327977.8950 - val_loss: 2.1495 - val_accuracy: 0.2732 - val_precision: 0.6552 - val_recall: 0.0195 - val_false_negatives: 348873.6875\n",
            "\n",
            "Epoch 00012: saving model to /content/sample_data/\n",
            "Epoch 13/50\n",
            "898/898 [==============================] - 31s 34ms/step - loss: 1.6091 - accuracy: 0.3746 - precision: 0.6550 - recall: 0.0201 - false_negatives: 356169.8800 - val_loss: 2.1443 - val_accuracy: 0.2773 - val_precision: 0.6549 - val_recall: 0.0222 - val_false_negatives: 376954.2188\n",
            "\n",
            "Epoch 00013: saving model to /content/sample_data/\n",
            "Epoch 14/50\n",
            "898/898 [==============================] - 32s 35ms/step - loss: 1.6039 - accuracy: 0.3767 - precision: 0.6546 - recall: 0.0228 - false_negatives: 384217.6127 - val_loss: 2.1390 - val_accuracy: 0.2803 - val_precision: 0.6547 - val_recall: 0.0248 - val_false_negatives: 404890.4688\n",
            "\n",
            "Epoch 00014: saving model to /content/sample_data/\n",
            "Epoch 15/50\n",
            "898/898 [==============================] - 31s 35ms/step - loss: 1.5991 - accuracy: 0.3778 - precision: 0.6542 - recall: 0.0254 - false_negatives: 412123.7822 - val_loss: 2.1358 - val_accuracy: 0.2783 - val_precision: 0.6539 - val_recall: 0.0274 - val_false_negatives: 432707.5312\n",
            "\n",
            "Epoch 00015: saving model to /content/sample_data/\n",
            "Epoch 16/50\n",
            "898/898 [==============================] - 32s 35ms/step - loss: 1.5947 - accuracy: 0.3800 - precision: 0.6538 - recall: 0.0280 - false_negatives: 439907.3158 - val_loss: 2.1338 - val_accuracy: 0.2752 - val_precision: 0.6538 - val_recall: 0.0299 - val_false_negatives: 460389.5312\n",
            "\n",
            "Epoch 00016: saving model to /content/sample_data/\n",
            "Epoch 17/50\n",
            "898/898 [==============================] - 31s 34ms/step - loss: 1.5905 - accuracy: 0.3814 - precision: 0.6536 - recall: 0.0305 - false_negatives: 467562.8396 - val_loss: 2.1299 - val_accuracy: 0.2773 - val_precision: 0.6537 - val_recall: 0.0323 - val_false_negatives: 487970.5625\n",
            "\n",
            "Epoch 00017: saving model to /content/sample_data/\n",
            "Epoch 18/50\n",
            "898/898 [==============================] - 31s 35ms/step - loss: 1.5865 - accuracy: 0.3841 - precision: 0.6535 - recall: 0.0329 - false_negatives: 495113.7000 - val_loss: 2.1263 - val_accuracy: 0.2773 - val_precision: 0.6535 - val_recall: 0.0347 - val_false_negatives: 515441.6562\n",
            "\n",
            "Epoch 00018: saving model to /content/sample_data/\n",
            "Epoch 19/50\n",
            "898/898 [==============================] - 26s 29ms/step - loss: 1.5828 - accuracy: 0.3867 - precision: 0.6532 - recall: 0.0352 - false_negatives: 522566.7246 - val_loss: 2.1247 - val_accuracy: 0.2773 - val_precision: 0.6534 - val_recall: 0.0369 - val_false_negatives: 542833.7500\n",
            "\n",
            "Epoch 00019: saving model to /content/sample_data/\n",
            "Epoch 20/50\n",
            "898/898 [==============================] - 32s 36ms/step - loss: 1.5793 - accuracy: 0.3888 - precision: 0.6531 - recall: 0.0374 - false_negatives: 549940.2917 - val_loss: 2.1237 - val_accuracy: 0.2762 - val_precision: 0.6533 - val_recall: 0.0391 - val_false_negatives: 570158.0000\n",
            "\n",
            "Epoch 00020: saving model to /content/sample_data/\n",
            "Epoch 21/50\n",
            "898/898 [==============================] - 32s 35ms/step - loss: 1.5759 - accuracy: 0.3905 - precision: 0.6530 - recall: 0.0395 - false_negatives: 577247.6599 - val_loss: 2.1215 - val_accuracy: 0.2752 - val_precision: 0.6532 - val_recall: 0.0411 - val_false_negatives: 597412.3125\n",
            "\n",
            "Epoch 00021: saving model to /content/sample_data/\n",
            "Epoch 22/50\n",
            "898/898 [==============================] - 32s 36ms/step - loss: 1.5728 - accuracy: 0.3919 - precision: 0.6530 - recall: 0.0416 - false_negatives: 604479.6049 - val_loss: 2.1194 - val_accuracy: 0.2762 - val_precision: 0.6532 - val_recall: 0.0431 - val_false_negatives: 624579.2500\n",
            "\n",
            "Epoch 00022: saving model to /content/sample_data/\n",
            "Epoch 23/50\n",
            "898/898 [==============================] - 31s 34ms/step - loss: 1.5697 - accuracy: 0.3927 - precision: 0.6530 - recall: 0.0436 - false_negatives: 631628.9947 - val_loss: 2.1180 - val_accuracy: 0.2783 - val_precision: 0.6533 - val_recall: 0.0450 - val_false_negatives: 651679.5000\n",
            "\n",
            "Epoch 00023: saving model to /content/sample_data/\n",
            "Epoch 24/50\n",
            "898/898 [==============================] - 30s 33ms/step - loss: 1.5668 - accuracy: 0.3942 - precision: 0.6531 - recall: 0.0455 - false_negatives: 658713.0213 - val_loss: 2.1171 - val_accuracy: 0.2773 - val_precision: 0.6533 - val_recall: 0.0469 - val_false_negatives: 678715.3750\n",
            "\n",
            "Epoch 00024: saving model to /content/sample_data/\n",
            "Epoch 25/50\n",
            "898/898 [==============================] - 31s 35ms/step - loss: 1.5640 - accuracy: 0.3942 - precision: 0.6532 - recall: 0.0473 - false_negatives: 685734.1292 - val_loss: 2.1156 - val_accuracy: 0.2793 - val_precision: 0.6534 - val_recall: 0.0487 - val_false_negatives: 705689.3750\n",
            "\n",
            "Epoch 00025: saving model to /content/sample_data/\n",
            "Epoch 26/50\n",
            "898/898 [==============================] - 30s 33ms/step - loss: 1.5613 - accuracy: 0.3951 - precision: 0.6532 - recall: 0.0491 - false_negatives: 712690.1356 - val_loss: 2.1150 - val_accuracy: 0.2762 - val_precision: 0.6533 - val_recall: 0.0504 - val_false_negatives: 732608.7500\n",
            "\n",
            "Epoch 00026: saving model to /content/sample_data/\n",
            "Epoch 27/50\n",
            "898/898 [==============================] - 30s 33ms/step - loss: 1.5587 - accuracy: 0.3966 - precision: 0.6530 - recall: 0.0508 - false_negatives: 739596.1812 - val_loss: 2.1146 - val_accuracy: 0.2752 - val_precision: 0.6530 - val_recall: 0.0520 - val_false_negatives: 759472.5000\n",
            "\n",
            "Epoch 00027: saving model to /content/sample_data/\n",
            "Epoch 28/50\n",
            "898/898 [==============================] - 31s 34ms/step - loss: 1.5562 - accuracy: 0.3973 - precision: 0.6528 - recall: 0.0524 - false_negatives: 766443.7542 - val_loss: 2.1130 - val_accuracy: 0.2762 - val_precision: 0.6529 - val_recall: 0.0536 - val_false_negatives: 786279.5000\n",
            "\n",
            "Epoch 00028: saving model to /content/sample_data/\n",
            "Epoch 29/50\n",
            "898/898 [==============================] - 30s 34ms/step - loss: 1.5538 - accuracy: 0.3988 - precision: 0.6526 - recall: 0.0540 - false_negatives: 793241.4043 - val_loss: 2.1116 - val_accuracy: 0.2742 - val_precision: 0.6527 - val_recall: 0.0552 - val_false_negatives: 813043.5000\n",
            "\n",
            "Epoch 00029: saving model to /content/sample_data/\n",
            "Epoch 30/50\n",
            "898/898 [==============================] - 30s 33ms/step - loss: 1.5514 - accuracy: 0.3997 - precision: 0.6525 - recall: 0.0555 - false_negatives: 819994.9267 - val_loss: 2.1095 - val_accuracy: 0.2783 - val_precision: 0.6527 - val_recall: 0.0567 - val_false_negatives: 839752.0000\n",
            "\n",
            "Epoch 00030: saving model to /content/sample_data/\n",
            "Epoch 31/50\n",
            "898/898 [==============================] - 30s 34ms/step - loss: 1.5492 - accuracy: 0.4009 - precision: 0.6525 - recall: 0.0571 - false_negatives: 846685.9007 - val_loss: 2.1091 - val_accuracy: 0.2803 - val_precision: 0.6527 - val_recall: 0.0582 - val_false_negatives: 866403.8750\n",
            "\n",
            "Epoch 00031: saving model to /content/sample_data/\n",
            "Epoch 32/50\n",
            "898/898 [==============================] - 31s 34ms/step - loss: 1.5470 - accuracy: 0.4025 - precision: 0.6526 - recall: 0.0585 - false_negatives: 873321.7054 - val_loss: 2.1076 - val_accuracy: 0.2783 - val_precision: 0.6529 - val_recall: 0.0596 - val_false_negatives: 893000.8750\n",
            "\n",
            "Epoch 00032: saving model to /content/sample_data/\n",
            "Epoch 33/50\n",
            "898/898 [==============================] - 30s 33ms/step - loss: 1.5448 - accuracy: 0.4039 - precision: 0.6528 - recall: 0.0599 - false_negatives: 899907.9482 - val_loss: 2.1071 - val_accuracy: 0.2803 - val_precision: 0.6531 - val_recall: 0.0610 - val_false_negatives: 919555.8125\n",
            "\n",
            "Epoch 00033: saving model to /content/sample_data/\n",
            "Epoch 34/50\n",
            "898/898 [==============================] - 30s 33ms/step - loss: 1.5428 - accuracy: 0.4044 - precision: 0.6530 - recall: 0.0613 - false_negatives: 926447.9699 - val_loss: 2.1062 - val_accuracy: 0.2793 - val_precision: 0.6534 - val_recall: 0.0624 - val_false_negatives: 946061.4375\n",
            "\n",
            "Epoch 00034: saving model to /content/sample_data/\n",
            "Epoch 35/50\n",
            "898/898 [==============================] - 30s 34ms/step - loss: 1.5407 - accuracy: 0.4053 - precision: 0.6533 - recall: 0.0627 - false_negatives: 952947.5261 - val_loss: 2.1047 - val_accuracy: 0.2813 - val_precision: 0.6536 - val_recall: 0.0637 - val_false_negatives: 972530.9375\n",
            "\n",
            "Epoch 00035: saving model to /content/sample_data/\n",
            "Epoch 36/50\n",
            "898/898 [==============================] - 30s 33ms/step - loss: 1.5388 - accuracy: 0.4060 - precision: 0.6535 - recall: 0.0640 - false_negatives: 979402.8235 - val_loss: 2.1045 - val_accuracy: 0.2793 - val_precision: 0.6537 - val_recall: 0.0650 - val_false_negatives: 998960.6250\n",
            "\n",
            "Epoch 00036: saving model to /content/sample_data/\n",
            "Epoch 37/50\n",
            "898/898 [==============================] - 30s 34ms/step - loss: 1.5369 - accuracy: 0.4067 - precision: 0.6536 - recall: 0.0653 - false_negatives: 1005821.8247 - val_loss: 2.1046 - val_accuracy: 0.2803 - val_precision: 0.6539 - val_recall: 0.0662 - val_false_negatives: 1025354.8125\n",
            "\n",
            "Epoch 00037: saving model to /content/sample_data/\n",
            "Epoch 38/50\n",
            "898/898 [==============================] - 31s 35ms/step - loss: 1.5350 - accuracy: 0.4079 - precision: 0.6538 - recall: 0.0665 - false_negatives: 1032204.0250 - val_loss: 2.1042 - val_accuracy: 0.2824 - val_precision: 0.6540 - val_recall: 0.0674 - val_false_negatives: 1051698.8750\n",
            "\n",
            "Epoch 00038: saving model to /content/sample_data/\n",
            "Epoch 39/50\n",
            "898/898 [==============================] - 29s 32ms/step - loss: 1.5332 - accuracy: 0.4088 - precision: 0.6539 - recall: 0.0677 - false_negatives: 1058542.0099 - val_loss: 2.1041 - val_accuracy: 0.2844 - val_precision: 0.6542 - val_recall: 0.0686 - val_false_negatives: 1078010.2500\n",
            "\n",
            "Epoch 00039: saving model to /content/sample_data/\n",
            "Epoch 40/50\n",
            "898/898 [==============================] - 26s 29ms/step - loss: 1.5313 - accuracy: 0.4090 - precision: 0.6541 - recall: 0.0689 - false_negatives: 1084842.8451 - val_loss: 2.1034 - val_accuracy: 0.2875 - val_precision: 0.6543 - val_recall: 0.0698 - val_false_negatives: 1104279.2500\n",
            "\n",
            "Epoch 00040: saving model to /content/sample_data/\n",
            "Epoch 41/50\n",
            "898/898 [==============================] - 26s 29ms/step - loss: 1.5296 - accuracy: 0.4106 - precision: 0.6542 - recall: 0.0701 - false_negatives: 1111100.9363 - val_loss: 2.1026 - val_accuracy: 0.2895 - val_precision: 0.6544 - val_recall: 0.0709 - val_false_negatives: 1130513.3750\n",
            "\n",
            "Epoch 00041: saving model to /content/sample_data/\n",
            "Epoch 42/50\n",
            "898/898 [==============================] - 26s 29ms/step - loss: 1.5278 - accuracy: 0.4113 - precision: 0.6544 - recall: 0.0712 - false_negatives: 1137328.0053 - val_loss: 2.1017 - val_accuracy: 0.2885 - val_precision: 0.6546 - val_recall: 0.0720 - val_false_negatives: 1156718.7500\n",
            "\n",
            "Epoch 00042: saving model to /content/sample_data/\n",
            "Epoch 43/50\n",
            "898/898 [==============================] - 26s 29ms/step - loss: 1.5261 - accuracy: 0.4117 - precision: 0.6545 - recall: 0.0723 - false_negatives: 1163522.0421 - val_loss: 2.1012 - val_accuracy: 0.2895 - val_precision: 0.6547 - val_recall: 0.0731 - val_false_negatives: 1182885.3750\n",
            "\n",
            "Epoch 00043: saving model to /content/sample_data/\n",
            "Epoch 44/50\n",
            "898/898 [==============================] - 27s 30ms/step - loss: 1.5245 - accuracy: 0.4128 - precision: 0.6546 - recall: 0.0734 - false_negatives: 1189679.7201 - val_loss: 2.1007 - val_accuracy: 0.2905 - val_precision: 0.6548 - val_recall: 0.0742 - val_false_negatives: 1209023.3750\n",
            "\n",
            "Epoch 00044: saving model to /content/sample_data/\n",
            "Epoch 45/50\n",
            "898/898 [==============================] - 27s 31ms/step - loss: 1.5228 - accuracy: 0.4136 - precision: 0.6547 - recall: 0.0744 - false_negatives: 1215810.3682 - val_loss: 2.1008 - val_accuracy: 0.2915 - val_precision: 0.6549 - val_recall: 0.0752 - val_false_negatives: 1235138.3750\n",
            "\n",
            "Epoch 00045: saving model to /content/sample_data/\n",
            "Epoch 46/50\n",
            "898/898 [==============================] - 27s 30ms/step - loss: 1.5212 - accuracy: 0.4146 - precision: 0.6548 - recall: 0.0754 - false_negatives: 1241916.6931 - val_loss: 2.1005 - val_accuracy: 0.2936 - val_precision: 0.6549 - val_recall: 0.0762 - val_false_negatives: 1261221.2500\n",
            "\n",
            "Epoch 00046: saving model to /content/sample_data/\n",
            "Epoch 47/50\n",
            "898/898 [==============================] - 26s 29ms/step - loss: 1.5196 - accuracy: 0.4162 - precision: 0.6548 - recall: 0.0765 - false_negatives: 1267991.7895 - val_loss: 2.1004 - val_accuracy: 0.2946 - val_precision: 0.6550 - val_recall: 0.0772 - val_false_negatives: 1287272.8750\n",
            "\n",
            "Epoch 00047: saving model to /content/sample_data/\n",
            "Epoch 48/50\n",
            "898/898 [==============================] - 27s 31ms/step - loss: 1.5181 - accuracy: 0.4173 - precision: 0.6549 - recall: 0.0774 - false_negatives: 1294037.6175 - val_loss: 2.1001 - val_accuracy: 0.2936 - val_precision: 0.6551 - val_recall: 0.0782 - val_false_negatives: 1313292.7500\n",
            "\n",
            "Epoch 00048: saving model to /content/sample_data/\n",
            "Epoch 49/50\n",
            "898/898 [==============================] - 27s 30ms/step - loss: 1.5165 - accuracy: 0.4175 - precision: 0.6550 - recall: 0.0784 - false_negatives: 1320048.4490 - val_loss: 2.1001 - val_accuracy: 0.2946 - val_precision: 0.6551 - val_recall: 0.0791 - val_false_negatives: 1339278.7500\n",
            "\n",
            "Epoch 00049: saving model to /content/sample_data/\n",
            "Epoch 50/50\n",
            "898/898 [==============================] - 27s 30ms/step - loss: 1.5150 - accuracy: 0.4178 - precision: 0.6551 - recall: 0.0793 - false_negatives: 1346027.9003 - val_loss: 2.0995 - val_accuracy: 0.2956 - val_precision: 0.6552 - val_recall: 0.0800 - val_false_negatives: 1365240.0000\n",
            "\n",
            "Epoch 00050: saving model to /content/sample_data/\n"
          ],
          "name": "stdout"
        }
      ]
    },
    {
      "cell_type": "markdown",
      "metadata": {
        "id": "HnJuYEK2Kb-v"
      },
      "source": [
        "## **Evaluation**"
      ]
    },
    {
      "cell_type": "code",
      "metadata": {
        "colab": {
          "base_uri": "https://localhost:8080/"
        },
        "id": "9Ho1ySgDdCtM",
        "outputId": "24f1ec6a-dfac-471b-cac6-714df827b5e9"
      },
      "source": [
        "model.evaluate(Xtest,ytest, verbose=True)\n"
      ],
      "execution_count": null,
      "outputs": [
        {
          "output_type": "stream",
          "text": [
            "225/225 [==============================] - 4s 15ms/step - loss: 1.4858 - accuracy: 0.4565 - precision_1: 0.7452 - recall_1: 0.3014 - false_negatives_1: 417333.6875\n"
          ],
          "name": "stdout"
        },
        {
          "output_type": "execute_result",
          "data": {
            "text/plain": [
              "[1.485764503479004,\n",
              " 0.45653384923934937,\n",
              " 0.7451750636100769,\n",
              " 0.3014353811740875,\n",
              " 417333.6875]"
            ]
          },
          "metadata": {
            "tags": []
          },
          "execution_count": 13
        }
      ]
    },
    {
      "cell_type": "markdown",
      "metadata": {
        "id": "oWhd11cj1xTV"
      },
      "source": [
        "##**Plot**\n"
      ]
    },
    {
      "cell_type": "code",
      "metadata": {
        "colab": {
          "base_uri": "https://localhost:8080/",
          "height": 1000
        },
        "id": "-dc9zMUqaQMQ",
        "outputId": "5973480d-b063-484e-9467-9c6aea6dadd3"
      },
      "source": [
        "import matplotlib.pyplot as plt\n",
        "\n",
        "h = history.history\n",
        "\n",
        "plt.figure(figsize = (15, 13))\n",
        "\n",
        "plt.subplot(2,1,1)\n",
        "plt.plot(history.epoch, h['loss'], label='Perte pour le  Training Set')\n",
        "plt.plot(history.epoch, h['val_loss'], label='Perte pour le Test Set')\n",
        "plt.title(\"Evolution de la perte du VGG-16 pour le Training Set et le Test Set pour 50 époques\")\n",
        "plt.xlabel(\"Epoques\")\n",
        "plt.ylabel(\"Valeur de la fonction de perte\")\n",
        "plt.grid(True)\n",
        "plt.legend()\n",
        "\n",
        "plt.subplot(2,1,2)\n",
        "plt.plot(history.epoch, h['accuracy'], label='Précision pour le Training Set')\n",
        "plt.plot(history.epoch, h['val_accuracy'], label='Précision pour le Test Set')\n",
        "plt.title(\"Evolution de la précision du VGG-16 pour 50 époques\")\n",
        "plt.xlabel(\"Epoques\")\n",
        "plt.ylabel(\"Pourcentage de précision\")\n",
        "plt.grid(True)\n",
        "plt.legend()\n",
        "plt.show()\n",
        "\n",
        "model.save('/content/sample_data')\n",
        "\n",
        "fer_json = model.to_json()  \n",
        "with open(\"fer.json\", \"w\") as json_file:  \n",
        "    json_file.write(fer_json)  \n",
        "model.save_weights(\"fer.h5\")"
      ],
      "execution_count": null,
      "outputs": [
        {
          "output_type": "display_data",
          "data": {
            "image/png": "[encoded data removed]",
            "text/plain": [
              "<Figure size 1080x936 with 2 Axes>"
            ]
          },
          "metadata": {
            "tags": [],
            "needs_background": "light"
          }
        },
        {
          "output_type": "stream",
          "text": [
            "WARNING:absl:Found untraced functions such as dense_3_layer_call_fn, dense_3_layer_call_and_return_conditional_losses, dense_4_layer_call_fn, dense_4_layer_call_and_return_conditional_losses, dense_5_layer_call_fn while saving (showing 5 of 15). These functions will not be directly callable after loading.\n"
          ],
          "name": "stderr"
        },
        {
          "output_type": "stream",
          "text": [
            "INFO:tensorflow:Assets written to: /content/sample_data/assets\n"
          ],
          "name": "stdout"
        },
        {
          "output_type": "stream",
          "text": [
            "INFO:tensorflow:Assets written to: /content/sample_data/assets\n"
          ],
          "name": "stderr"
        },
        {
          "output_type": "error",
          "ename": "NotImplementedError",
          "evalue": "ignored",
          "traceback": [
            "\u001b[0;31m---------------------------------------------------------------------------\u001b[0m",
            "\u001b[0;31mNotImplementedError\u001b[0m                       Traceback (most recent call last)",
            "\u001b[0;32m<ipython-input-5-88a84447ac73>\u001b[0m in \u001b[0;36m<module>\u001b[0;34m()\u001b[0m\n\u001b[1;32m     26\u001b[0m \u001b[0mmodel\u001b[0m\u001b[0;34m.\u001b[0m\u001b[0msave\u001b[0m\u001b[0;34m(\u001b[0m\u001b[0;34m'/content/sample_data'\u001b[0m\u001b[0;34m)\u001b[0m\u001b[0;34m\u001b[0m\u001b[0;34m\u001b[0m\u001b[0m\n\u001b[1;32m     27\u001b[0m \u001b[0;34m\u001b[0m\u001b[0m\n\u001b[0;32m---> 28\u001b[0;31m \u001b[0mfer_json\u001b[0m \u001b[0;34m=\u001b[0m \u001b[0mmodel\u001b[0m\u001b[0;34m.\u001b[0m\u001b[0mto_json\u001b[0m\u001b[0;34m(\u001b[0m\u001b[0;34m)\u001b[0m\u001b[0;34m\u001b[0m\u001b[0;34m\u001b[0m\u001b[0m\n\u001b[0m\u001b[1;32m     29\u001b[0m \u001b[0;32mwith\u001b[0m \u001b[0mopen\u001b[0m\u001b[0;34m(\u001b[0m\u001b[0;34m\"fer.json\"\u001b[0m\u001b[0;34m,\u001b[0m \u001b[0;34m\"w\"\u001b[0m\u001b[0;34m)\u001b[0m \u001b[0;32mas\u001b[0m \u001b[0mjson_file\u001b[0m\u001b[0;34m:\u001b[0m\u001b[0;34m\u001b[0m\u001b[0;34m\u001b[0m\u001b[0m\n\u001b[1;32m     30\u001b[0m     \u001b[0mjson_file\u001b[0m\u001b[0;34m.\u001b[0m\u001b[0mwrite\u001b[0m\u001b[0;34m(\u001b[0m\u001b[0mfer_json\u001b[0m\u001b[0;34m)\u001b[0m\u001b[0;34m\u001b[0m\u001b[0;34m\u001b[0m\u001b[0m\n",
            "\u001b[0;32m/usr/local/lib/python3.7/dist-packages/keras/engine/training.py\u001b[0m in \u001b[0;36mto_json\u001b[0;34m(self, **kwargs)\u001b[0m\n\u001b[1;32m   2351\u001b[0m         \u001b[0mA\u001b[0m \u001b[0mJSON\u001b[0m \u001b[0mstring\u001b[0m\u001b[0;34m.\u001b[0m\u001b[0;34m\u001b[0m\u001b[0;34m\u001b[0m\u001b[0m\n\u001b[1;32m   2352\u001b[0m     \"\"\"\n\u001b[0;32m-> 2353\u001b[0;31m     \u001b[0mmodel_config\u001b[0m \u001b[0;34m=\u001b[0m \u001b[0mself\u001b[0m\u001b[0;34m.\u001b[0m\u001b[0m_updated_config\u001b[0m\u001b[0;34m(\u001b[0m\u001b[0;34m)\u001b[0m\u001b[0;34m\u001b[0m\u001b[0;34m\u001b[0m\u001b[0m\n\u001b[0m\u001b[1;32m   2354\u001b[0m     return json.dumps(\n\u001b[1;32m   2355\u001b[0m         model_config, default=json_utils.get_json_type, **kwargs)\n",
            "\u001b[0;32m/usr/local/lib/python3.7/dist-packages/keras/engine/training.py\u001b[0m in \u001b[0;36m_updated_config\u001b[0;34m(self)\u001b[0m\n\u001b[1;32m   2309\u001b[0m     \u001b[0;32mfrom\u001b[0m \u001b[0mkeras\u001b[0m \u001b[0;32mimport\u001b[0m \u001b[0m__version__\u001b[0m \u001b[0;32mas\u001b[0m \u001b[0mkeras_version\u001b[0m  \u001b[0;31m# pylint: disable=g-import-not-at-top\u001b[0m\u001b[0;34m\u001b[0m\u001b[0;34m\u001b[0m\u001b[0m\n\u001b[1;32m   2310\u001b[0m \u001b[0;34m\u001b[0m\u001b[0m\n\u001b[0;32m-> 2311\u001b[0;31m     \u001b[0mconfig\u001b[0m \u001b[0;34m=\u001b[0m \u001b[0mself\u001b[0m\u001b[0;34m.\u001b[0m\u001b[0mget_config\u001b[0m\u001b[0;34m(\u001b[0m\u001b[0;34m)\u001b[0m\u001b[0;34m\u001b[0m\u001b[0;34m\u001b[0m\u001b[0m\n\u001b[0m\u001b[1;32m   2312\u001b[0m     model_config = {\n\u001b[1;32m   2313\u001b[0m         \u001b[0;34m'class_name'\u001b[0m\u001b[0;34m:\u001b[0m \u001b[0mself\u001b[0m\u001b[0;34m.\u001b[0m\u001b[0m__class__\u001b[0m\u001b[0;34m.\u001b[0m\u001b[0m__name__\u001b[0m\u001b[0;34m,\u001b[0m\u001b[0;34m\u001b[0m\u001b[0;34m\u001b[0m\u001b[0m\n",
            "\u001b[0;32m/usr/local/lib/python3.7/dist-packages/keras/engine/sequential.py\u001b[0m in \u001b[0;36mget_config\u001b[0;34m(self)\u001b[0m\n\u001b[1;32m    469\u001b[0m       \u001b[0;31m# of `self.layers`). Note that `self._self_tracked_trackables` is managed\u001b[0m\u001b[0;34m\u001b[0m\u001b[0;34m\u001b[0m\u001b[0;34m\u001b[0m\u001b[0m\n\u001b[1;32m    470\u001b[0m       \u001b[0;31m# by the tracking infrastructure and should not be used.\u001b[0m\u001b[0;34m\u001b[0m\u001b[0;34m\u001b[0m\u001b[0;34m\u001b[0m\u001b[0m\n\u001b[0;32m--> 471\u001b[0;31m       \u001b[0mlayer_configs\u001b[0m\u001b[0;34m.\u001b[0m\u001b[0mappend\u001b[0m\u001b[0;34m(\u001b[0m\u001b[0mgeneric_utils\u001b[0m\u001b[0;34m.\u001b[0m\u001b[0mserialize_keras_object\u001b[0m\u001b[0;34m(\u001b[0m\u001b[0mlayer\u001b[0m\u001b[0;34m)\u001b[0m\u001b[0;34m)\u001b[0m\u001b[0;34m\u001b[0m\u001b[0;34m\u001b[0m\u001b[0m\n\u001b[0m\u001b[1;32m    472\u001b[0m     config = {\n\u001b[1;32m    473\u001b[0m         \u001b[0;34m'name'\u001b[0m\u001b[0;34m:\u001b[0m \u001b[0mself\u001b[0m\u001b[0;34m.\u001b[0m\u001b[0mname\u001b[0m\u001b[0;34m,\u001b[0m\u001b[0;34m\u001b[0m\u001b[0;34m\u001b[0m\u001b[0m\n",
            "\u001b[0;32m/usr/local/lib/python3.7/dist-packages/keras/utils/generic_utils.py\u001b[0m in \u001b[0;36mserialize_keras_object\u001b[0;34m(instance)\u001b[0m\n\u001b[1;32m    506\u001b[0m         return serialize_keras_class_and_config(\n\u001b[1;32m    507\u001b[0m             name, {_LAYER_UNDEFINED_CONFIG_KEY: True})\n\u001b[0;32m--> 508\u001b[0;31m       \u001b[0;32mraise\u001b[0m \u001b[0me\u001b[0m\u001b[0;34m\u001b[0m\u001b[0;34m\u001b[0m\u001b[0m\n\u001b[0m\u001b[1;32m    509\u001b[0m     \u001b[0mserialization_config\u001b[0m \u001b[0;34m=\u001b[0m \u001b[0;34m{\u001b[0m\u001b[0;34m}\u001b[0m\u001b[0;34m\u001b[0m\u001b[0;34m\u001b[0m\u001b[0m\n\u001b[1;32m    510\u001b[0m     \u001b[0;32mfor\u001b[0m \u001b[0mkey\u001b[0m\u001b[0;34m,\u001b[0m \u001b[0mitem\u001b[0m \u001b[0;32min\u001b[0m \u001b[0mconfig\u001b[0m\u001b[0;34m.\u001b[0m\u001b[0mitems\u001b[0m\u001b[0;34m(\u001b[0m\u001b[0;34m)\u001b[0m\u001b[0;34m:\u001b[0m\u001b[0;34m\u001b[0m\u001b[0;34m\u001b[0m\u001b[0m\n",
            "\u001b[0;32m/usr/local/lib/python3.7/dist-packages/keras/utils/generic_utils.py\u001b[0m in \u001b[0;36mserialize_keras_object\u001b[0;34m(instance)\u001b[0m\n\u001b[1;32m    501\u001b[0m     \u001b[0mname\u001b[0m \u001b[0;34m=\u001b[0m \u001b[0mget_registered_name\u001b[0m\u001b[0;34m(\u001b[0m\u001b[0minstance\u001b[0m\u001b[0;34m.\u001b[0m\u001b[0m__class__\u001b[0m\u001b[0;34m)\u001b[0m\u001b[0;34m\u001b[0m\u001b[0;34m\u001b[0m\u001b[0m\n\u001b[1;32m    502\u001b[0m     \u001b[0;32mtry\u001b[0m\u001b[0;34m:\u001b[0m\u001b[0;34m\u001b[0m\u001b[0;34m\u001b[0m\u001b[0m\n\u001b[0;32m--> 503\u001b[0;31m       \u001b[0mconfig\u001b[0m \u001b[0;34m=\u001b[0m \u001b[0minstance\u001b[0m\u001b[0;34m.\u001b[0m\u001b[0mget_config\u001b[0m\u001b[0;34m(\u001b[0m\u001b[0;34m)\u001b[0m\u001b[0;34m\u001b[0m\u001b[0;34m\u001b[0m\u001b[0m\n\u001b[0m\u001b[1;32m    504\u001b[0m     \u001b[0;32mexcept\u001b[0m \u001b[0mNotImplementedError\u001b[0m \u001b[0;32mas\u001b[0m \u001b[0me\u001b[0m\u001b[0;34m:\u001b[0m\u001b[0;34m\u001b[0m\u001b[0;34m\u001b[0m\u001b[0m\n\u001b[1;32m    505\u001b[0m       \u001b[0;32mif\u001b[0m \u001b[0m_SKIP_FAILED_SERIALIZATION\u001b[0m\u001b[0;34m:\u001b[0m\u001b[0;34m\u001b[0m\u001b[0;34m\u001b[0m\u001b[0m\n",
            "\u001b[0;32m/usr/local/lib/python3.7/dist-packages/keras/engine/base_layer.py\u001b[0m in \u001b[0;36mget_config\u001b[0;34m(self)\u001b[0m\n\u001b[1;32m    695\u001b[0m       raise NotImplementedError('Layer %s has arguments in `__init__` and '\n\u001b[1;32m    696\u001b[0m                                 \u001b[0;34m'therefore must override `get_config`.'\u001b[0m \u001b[0;34m%\u001b[0m\u001b[0;34m\u001b[0m\u001b[0;34m\u001b[0m\u001b[0m\n\u001b[0;32m--> 697\u001b[0;31m                                 self.__class__.__name__)\n\u001b[0m\u001b[1;32m    698\u001b[0m     \u001b[0;32mreturn\u001b[0m \u001b[0mconfig\u001b[0m\u001b[0;34m\u001b[0m\u001b[0;34m\u001b[0m\u001b[0m\n\u001b[1;32m    699\u001b[0m \u001b[0;34m\u001b[0m\u001b[0m\n",
            "\u001b[0;31mNotImplementedError\u001b[0m: Layer ModuleWrapper has arguments in `__init__` and therefore must override `get_config`."
          ]
        }
      ]
    },
    {
      "cell_type": "markdown",
      "metadata": {
        "id": "vk4Qv0ZDzijh"
      },
      "source": [
        "## **Confusion Matrix**"
      ]
    },
    {
      "cell_type": "code",
      "metadata": {
        "colab": {
          "base_uri": "https://localhost:8080/"
        },
        "id": "0szCz2FkzlEm",
        "outputId": "1cebaa0d-ac96-4795-ad89-23acf30ae819"
      },
      "source": [
        "originals = test_dataset.take(60)\n",
        "originals_numpy = np.concatenate([x[1] for x in originals])\n",
        "predictions = model.predict(originals, verbose=True)"
      ],
      "execution_count": null,
      "outputs": [
        {
          "output_type": "stream",
          "text": [
            "60/60 [==============================] - 1s 13ms/step\n"
          ],
          "name": "stdout"
        }
      ]
    },
    {
      "cell_type": "code",
      "metadata": {
        "id": "r2K000mo0VpW"
      },
      "source": [
        ""
      ],
      "execution_count": null,
      "outputs": []
    },
    {
      "cell_type": "code",
      "metadata": {
        "colab": {
          "base_uri": "https://localhost:8080/",
          "height": 538
        },
        "id": "7I7JCGhQz8SA",
        "outputId": "08492cd4-cb93-41ab-e08b-e2307f9f3e7f"
      },
      "source": [
        "y_true = np.argmax(originals_numpy, axis=-1)\n",
        "y_pred = np.argmax(predictions, axis=-1)\n",
        "conf = tf.math.confusion_matrix(y_true, y_pred, num_classes=OUTPUT_SHAPE)\n",
        "\n",
        "def plot_confusion_matrix(conf, classNames):\n",
        "    plt.figure(figsize=(8,8))\n",
        "    plt.imshow(conf, interpolation='nearest', cmap=plt.cm.cool)\n",
        "    plt.title('Confusion Matrix')\n",
        "    plt.ylabel('True label')\n",
        "    plt.xlabel('Predicted label')\n",
        "    tick_marks = np.arange(len(classNames))\n",
        "    plt.xticks(tick_marks, classNames, rotation=45)\n",
        "    plt.yticks(tick_marks, classNames)\n",
        "    for i in range(len(classNames)):\n",
        "        for j in range(len(classNames)):\n",
        "            plt.text(j, i, str(int(conf[i][j])))\n",
        "    plt.show()\n",
        "    \n",
        "plot_confusion_matrix(conf, CATEGORIES)"
      ],
      "execution_count": null,
      "outputs": [
        {
          "output_type": "display_data",
          "data": {
            "image/png": "[encoded data removed]",
            "text/plain": [
              "<Figure size 576x576 with 1 Axes>"
            ]
          },
          "metadata": {
            "tags": [],
            "needs_background": "light"
          }
        }
      ]
    }
  ]
}